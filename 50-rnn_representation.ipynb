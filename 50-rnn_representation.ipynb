{
 "cells": [
  {
   "cell_type": "markdown",
   "metadata": {},
   "source": [
    "## RNN Applications\n",
    "\n",
    "Examples: \n",
    "\n",
    "- Speech recognition (sound wave > text)\n",
    "- Music generation (an integer > music, NULL > music)\n",
    "- Name Entity recognition (\"Harry met Hermione\" > `[[Harry, 'person'], [Hermione, 'person']]`)\n",
    "- DNA Sequence (detecting which segment represents a protein)"
   ]
  },
  {
   "cell_type": "markdown",
   "metadata": {},
   "source": [
    "## Notation\n",
    "\n",
    "A simple representation for **name entity recognition**:\n",
    "\n",
    "    X: \"His name is Albert Einstein\"\n",
    "    Y: [0, 0, 0, 1, 1]\n",
    "    \n",
    "    x3 : \"is\"\n",
    "    y2 : 0\n",
    "    Tx: 5 # number of words\n",
    "    \n",
    "How to represent `'is'`?\n",
    "We need a dictionary (or vocabulary)\n",
    "\n",
    "    Vocabulary = \n",
    "    [\n",
    "    a,\n",
    "    and,\n",
    "    .\n",
    "    .\n",
    "    .\n",
    "    is\n",
    "    .\n",
    "    .\n",
    "    zulu\n",
    "    ]\n",
    "Assume this dictinary has 10.000 words.\n",
    "\n",
    "## One hot representation of a word\n",
    "\n",
    "    [\n",
    "    0,\n",
    "    0,\n",
    "    .,\n",
    "    .,\n",
    "    .,\n",
    "    1, # \"is\"\n",
    "    .\n",
    "    .\n",
    "    0\n",
    "    ]\n",
    "    \n",
    "If we don't have our word in the dictionary, we use a placeholder word or `<UNK>` for unknown."
   ]
  },
  {
   "cell_type": "markdown",
   "metadata": {},
   "source": [
    "## Recurrent Neural Network\n",
    "Unidirectional vs Bidirectional RNN"
   ]
  },
  {
   "cell_type": "markdown",
   "metadata": {},
   "source": [
    "> They are networks with loops in them, allowing information to persist.\n",
    "\n",
    "A graph from [Understanding LSTM Networks](https://colah.github.io/posts/2015-08-Understanding-LSTMs/) blog posts: "
   ]
  },
  {
   "cell_type": "markdown",
   "metadata": {},
   "source": [
    "![rrn](https://colah.github.io/posts/2015-08-Understanding-LSTMs/img/RNN-unrolled.png)"
   ]
  },
  {
   "cell_type": "markdown",
   "metadata": {},
   "source": [
    "With Equations:\n",
    "\n",
    "$$a^{<t>} = g(W_{t-1}[a^{<t-1>}, x_t]+b_a)$$"
   ]
  },
  {
   "cell_type": "markdown",
   "metadata": {},
   "source": [
    "## A good Illustration of LSTM and GRU"
   ]
  },
  {
   "cell_type": "code",
   "execution_count": 3,
   "metadata": {},
   "outputs": [
    {
     "data": {
      "image/jpeg": "[encoded data removed]",
      "text/html": [
       "\n",
       "        <iframe\n",
       "            width=\"400\"\n",
       "            height=\"300\"\n",
       "            src=\"https://www.youtube.com/embed/8HyCNIVRbSU\"\n",
       "            frameborder=\"0\"\n",
       "            allowfullscreen\n",
       "        ></iframe>\n",
       "        "
      ],
      "text/plain": [
       "<IPython.lib.display.YouTubeVideo at 0x1083e5310>"
      ]
     },
     "execution_count": 3,
     "metadata": {},
     "output_type": "execute_result"
    }
   ],
   "source": [
    "from IPython.display import YouTubeVideo\n",
    "YouTubeVideo('8HyCNIVRbSU')"
   ]
  },
  {
   "cell_type": "markdown",
   "metadata": {},
   "source": [
    "## References\n",
    "- [Understanding LSTM Networks](https://colah.github.io/posts/2015-08-Understanding-LSTMs/) by Christopher Olah"
   ]
  }
 ],
 "metadata": {
  "kernelspec": {
   "display_name": "Python 3",
   "language": "python",
   "name": "python3"
  },
  "language_info": {
   "codemirror_mode": {
    "name": "ipython",
    "version": 3
   },
   "file_extension": ".py",
   "mimetype": "text/x-python",
   "name": "python",
   "nbconvert_exporter": "python",
   "pygments_lexer": "ipython3",
   "version": "3.7.6"
  }
 },
 "nbformat": 4,
 "nbformat_minor": 4
}
