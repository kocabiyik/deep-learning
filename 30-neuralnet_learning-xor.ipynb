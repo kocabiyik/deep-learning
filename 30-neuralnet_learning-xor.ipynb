{
 "cells": [
  {
   "cell_type": "markdown",
   "metadata": {},
   "source": [
    "# Deep Feedforward Networks\n",
    "\n",
    "Writing a Multilayer Perceptron (MLP).  \n",
    "Following __Deep Feedforward Networks__ section of [Deep Learning Book](https://www.deeplearningbook.org/contents/mlp.html). "
   ]
  },
  {
   "cell_type": "markdown",
   "metadata": {},
   "source": [
    "Objective: Aproximating a function $f^{*}$ such that $y≈f{*}(x) $"
   ]
  },
  {
   "cell_type": "markdown",
   "metadata": {},
   "source": [
    "## Learning XOR\n",
    "\n",
    "### Data\n",
    "\n",
    "Evaluates 1 when exactly one of the binary values is 1. Otherwise, it evaluates 0.  \n",
    "\n",
    "$$ X =\n",
    "\\begin{bmatrix}\n",
    "  0 & 0 & 1 & 1\\\\\n",
    "  0 & 1 & 0 & 1\\\\\n",
    "\\end{bmatrix}\n",
    "$$\n",
    "\n",
    "$$ y =\n",
    "\\begin{bmatrix}\n",
    "  0 & 1 & 1 & 0\\\\\n",
    "\\end{bmatrix}\n",
    "$$"
   ]
  },
  {
   "cell_type": "code",
   "execution_count": 1,
   "metadata": {},
   "outputs": [],
   "source": [
    "import numpy as np\n",
    "from utils.math import bmatrix, oh_encode\n",
    "\n",
    "X = np.array([\n",
    "    [0,0],\n",
    "    [0,1],\n",
    "    [1,0],\n",
    "    [1,1],\n",
    "]).T\n",
    "\n",
    "y = np.array([0,1,1,0])"
   ]
  },
  {
   "cell_type": "markdown",
   "metadata": {},
   "source": [
    "### One Hot Encoding Values of `y`"
   ]
  },
  {
   "cell_type": "code",
   "execution_count": 2,
   "metadata": {},
   "outputs": [],
   "source": [
    "y_oh = oh_encode(y,2).T"
   ]
  },
  {
   "cell_type": "markdown",
   "metadata": {},
   "source": [
    "$$ y_{onehot} = \n",
    "\\begin{bmatrix}\n",
    "  1. & 0.\\\\\n",
    "  0. & 1.\\\\\n",
    "  0. & 1.\\\\\n",
    "  1. & 0.\\\\\n",
    "\\end{bmatrix}\n",
    "$$"
   ]
  },
  {
   "cell_type": "markdown",
   "metadata": {},
   "source": [
    "### Initializing Parameters $W$ and $b$  \n",
    "Random initialization for $W$ and zero initialization for $b$"
   ]
  },
  {
   "cell_type": "code",
   "execution_count": 101,
   "metadata": {},
   "outputs": [],
   "source": [
    "import random\n",
    "random.seed(1)\n",
    "\n",
    "W = np.random.rand(2,2)\n",
    "b = 0"
   ]
  },
  {
   "cell_type": "markdown",
   "metadata": {},
   "source": [
    "$$ W = \n",
    "\\begin{bmatrix}\n",
    "  0.48260085 & 0.91887075\\\\\n",
    "  0.06630784 & 0.641168\\\\\n",
    "\\end{bmatrix}$$\n",
    "\n",
    "$$ b = 0$$"
   ]
  },
  {
   "cell_type": "markdown",
   "metadata": {},
   "source": [
    "### The Model\n",
    "\n",
    "$$f^{*}(x) = X^{T}w+b$$\n",
    "\n",
    "Evaluation after the random/zero initialization: \n",
    "$ \n",
    "\\begin{bmatrix}\n",
    "  0. & 0.\\\\\n",
    "  0.59452726 & 0.74825425\\\\\n",
    "  0.95187941 & 0.04259897\\\\\n",
    "  1.54640667 & 0.79085322\\\\\n",
    "\\end{bmatrix}$"
   ]
  },
  {
   "cell_type": "code",
   "execution_count": 102,
   "metadata": {},
   "outputs": [],
   "source": [
    "def feedforward(X, W, b):\n",
    "    \"\"\"\n",
    "    Executes forward propogation\n",
    "    \n",
    "    Arguments:\n",
    "    X -- Input matrix\n",
    "    W -- Randomly initialized weights\n",
    "    b -- bias matrix\n",
    "    \n",
    "    Returns:\n",
    "    Numpy array\n",
    "    \"\"\"\n",
    "    return((X.T@W)+b)"
   ]
  },
  {
   "cell_type": "code",
   "execution_count": 103,
   "metadata": {},
   "outputs": [],
   "source": [
    "yhat = feedforward(X, W, b)"
   ]
  },
  {
   "cell_type": "code",
   "execution_count": 104,
   "metadata": {},
   "outputs": [
    {
     "data": {
      "text/plain": [
       "array([[0.        , 0.        ],\n",
       "       [0.88782941, 0.85191245],\n",
       "       [0.54612488, 0.46394173],\n",
       "       [1.43395428, 1.31585418]])"
      ]
     },
     "execution_count": 104,
     "metadata": {},
     "output_type": "execute_result"
    }
   ],
   "source": [
    "yhat"
   ]
  },
  {
   "cell_type": "markdown",
   "metadata": {},
   "source": [
    "### Loss Function\n",
    "\n",
    "$$\n",
    "J = \\frac{1}{4}\\sum\\limits_{x \\in X}(f^{*}(x)-y)^2\n",
    "$$"
   ]
  },
  {
   "cell_type": "code",
   "execution_count": 114,
   "metadata": {},
   "outputs": [],
   "source": [
    "def compute_cost(yhat, y_oh):\n",
    "    \"\"\"\n",
    "    Computing cost\n",
    "    \n",
    "    Arguments:\n",
    "    y_hat -- predictions\n",
    "    y -- true values\n",
    "    \n",
    "    Returns:\n",
    "    A real number representing MSE.\n",
    "    \"\"\"\n",
    "    m = y.shape[0]\n",
    "    loss = np.sum(np.square((yhat-y_oh)))/m\n",
    "    \n",
    "    return(loss)"
   ]
  }
 ],
 "metadata": {
  "kernelspec": {
   "display_name": "Python 3",
   "language": "python",
   "name": "python3"
  },
  "language_info": {
   "codemirror_mode": {
    "name": "ipython",
    "version": 3
   },
   "file_extension": ".py",
   "mimetype": "text/x-python",
   "name": "python",
   "nbconvert_exporter": "python",
   "pygments_lexer": "ipython3",
   "version": "3.7.0"
  }
 },
 "nbformat": 4,
 "nbformat_minor": 4
}
